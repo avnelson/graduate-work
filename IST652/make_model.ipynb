{
 "cells": [
  {
   "cell_type": "code",
   "execution_count": null,
   "metadata": {},
   "outputs": [],
   "source": [
    "import pandas as pd\n",
    "import numpy as np\n",
    "from itertools import cycle \n",
    "\n",
    "vehicles = pd.read_csv(\"/Users/avanelson/Desktop/IST652 Python/Python Project/vehicles_trimmed_2000.csv\")\n",
    "#///////import data////////\n",
    "\n",
    "type_dict = {\n",
    "    'price': float,\n",
    "    'year': 'Int64',\n",
    "    'manufacturer': str,\n",
    "    'model': str,\n",
    "    'condition': str,\n",
    "    'cylinders': str,\n",
    "    'fuel': str,\n",
    "    'odometer': 'Int64',\n",
    "    'title_status': str,\n",
    "    'transmission': str,\n",
    "    'size': str,\n",
    "    'type': str,\n",
    "    'paint_color': str,\n",
    "    'state': str,\n",
    "}\n",
    "vehicles = vehicles.astype(type_dict)\n",
    "vehicles.dtypes #verify data types\n",
    "\n",
    "'''Import dataset for cleaning up car make/model listing for easier processing'''\n",
    "make_model = pd.read_csv(\"/Users/avanelson/Desktop/IST652 Python/Python Project/make_model.csv\", sep=\";\", usecols=[0,1]).apply(lambda x: x.astype(str).str.lower()) #source credit: http://tiresaddict.com/help/databases/cars/\n",
    "make_model.columns = ['Make', 'Model'] #rename columns\n",
    "model_list = make_model[['Model']].to_numpy().tolist()\n",
    "\n",
    "old_model = []\n",
    "simp_model = []\n",
    "old_new_model = {}\n",
    "count = 0\n",
    "\n",
    "for model in vehicles.model:\n",
    "    while True:\n",
    "        try:\n",
    "    \n",
    "            old_model = [s for s in vehicles.model if model_list[count] in s] #match df with entry from model list\n",
    "            simp_model.append(model_list[count])\n",
    "            extra = dict(zip(old_model, cycle(simp_model))) #make dictionary with old-new entries\n",
    "            old_new_model.update(extra)\n",
    "            count = count + 1\n",
    "        except:\n",
    "            count = count + 1\n",
    "            pass\n",
    "        \n",
    "    \n",
    "\n",
    "    \n",
    "\n"
   ]
  },
  {
   "cell_type": "code",
   "execution_count": 8,
   "metadata": {},
   "outputs": [
    {
     "name": "stdout",
     "output_type": "stream",
     "text": [
      "resultant dictionary :  {'a': 1, 'b': 2, 'c': 3, 'd': 1, 'e': 2}\n"
     ]
    }
   ],
   "source": [
    "\n",
    "# Python code to demonstrate \n",
    "# return the sum of values of a dictionary \n",
    "# with same keys in the list of dictionary \n",
    "  \n",
    "from itertools import cycle \n",
    "  \n",
    "# Initialising list of dictionary \n",
    "ini_lis1 = ['a', 'b', 'c', 'd', 'e'] \n",
    "ini_lis2 = [1, 2, 3] \n",
    "  \n",
    "# zipping in cyclic if shorter length \n",
    "result = dict(zip(ini_lis1, cycle(ini_lis2))) \n",
    "  \n",
    "# printing resultant dictionary \n",
    "print(\"resultant dictionary : \", str(result)) "
   ]
  },
  {
   "cell_type": "code",
   "execution_count": 9,
   "metadata": {},
   "outputs": [
    {
     "data": {
      "text/plain": [
       "list"
      ]
     },
     "execution_count": 9,
     "metadata": {},
     "output_type": "execute_result"
    }
   ],
   "source": [
    "type(ini_lis1)"
   ]
  },
  {
   "cell_type": "code",
   "execution_count": null,
   "metadata": {},
   "outputs": [],
   "source": []
  }
 ],
 "metadata": {
  "kernelspec": {
   "display_name": "Python 3",
   "language": "python",
   "name": "python3"
  },
  "language_info": {
   "codemirror_mode": {
    "name": "ipython",
    "version": 3
   },
   "file_extension": ".py",
   "mimetype": "text/x-python",
   "name": "python",
   "nbconvert_exporter": "python",
   "pygments_lexer": "ipython3",
   "version": "3.7.6"
  }
 },
 "nbformat": 4,
 "nbformat_minor": 4
}
